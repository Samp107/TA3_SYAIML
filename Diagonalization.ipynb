{
  "cells": [
    {
      "cell_type": "markdown",
      "source": [
        "#Question\n",
        "# Take any two 3X3 matrices and diagonalize them using python"
      ],
      "metadata": {
        "id": "TPb7nGq2OGiL"
      }
    },
    {
      "cell_type": "code",
      "execution_count": 1,
      "metadata": {
        "id": "_BE-ZMWUJCUK"
      },
      "outputs": [],
      "source": [
        "import sympy as sy\n",
        "sy.init_printing()\n",
        "import matplotlib.pyplot as plt\n",
        "plt.style.use('ggplot')\n",
        "import numpy as np"
      ]
    },
    {
      "cell_type": "markdown",
      "metadata": {
        "id": "S-tAFJSqJCUN"
      },
      "source": [
        "# <font face=\"gotham\" color=\"purple\"> Similarity </font>"
      ]
    },
    {
      "cell_type": "markdown",
      "metadata": {
        "id": "fKVol14FJCUP"
      },
      "source": [
        "If $A = PBP^{-1}$, we say $A$ is _similar_ to $B$, decomposing $A$ into $PBP^{-1}$ is also called a _similarity transformation_, $P$ is an invertable matrix.\n",
        "\n",
        "If $n\\times n$ matrices $A$ and $B$ are similar, they have the _same eigenvalues_.\n",
        "\n",
        "Here are some reasons that we need similarity transformation:\n",
        "1. Invariant Properties: Similar matrices share many important properties, such as eigenvalues, determinant, trace, and rank. This invariance makes similarity transformations useful for simplifying problems without changing their fundamental characteristics.\n",
        "\n",
        "2. Changing Basis: Similarity transformations can be interpreted as changing the basis in which the linear transformation represented by the matrix is expressed. This change of basis can make the problem easier to understand or solve.\n",
        "\n",
        "3. Applications: Similarity transformations are widely used in various applications, including diagonalization, canonical forms, and simplifying differential equations.\n",
        "\n",
        "The _diagnoalization_, which we will explain below,  is a special case of similarity transformation."
      ]
    },
    {
      "cell_type": "markdown",
      "metadata": {
        "id": "FWDvbmaIJCUQ"
      },
      "source": [
        "# <font face=\"gotham\" color=\"purple\"> Diagonalizable Matrix and Special Decompositon</font>"
      ]
    },
    {
      "cell_type": "markdown",
      "metadata": {
        "id": "cZF-TWAZJCUQ"
      },
      "source": [
        "Let $A$ be an $n\\times n$ matrix. If there exists an $n\\times n$ invertible matrix $P$ and a diagonal matrix $D$, such that\n",
        "\n",
        "$$\n",
        "A=PDP^{-1}\n",
        "$$\n",
        "\n",
        "then matrix $A$ is called a _diagonalizable matrix_."
      ]
    },
    {
      "cell_type": "markdown",
      "metadata": {
        "id": "0-V6Ux9yJCUR"
      },
      "source": [
        "And further, the columns of $P$ are linearly independent eigenvectors of $A$, and its corresponding eigenvalues are on the principal diagonal of $D$. In other words, $A$ is diagonalizable if and only if the dimension of eigenspace basis is $n$."
      ]
    },
    {
      "cell_type": "markdown",
      "metadata": {
        "id": "Vg79SEn1JCUS"
      },
      "source": [
        "Let's show why this equation holds. Define $P$ and $D$"
      ]
    },
    {
      "cell_type": "markdown",
      "metadata": {
        "id": "i8uTdKPrJCUS"
      },
      "source": [
        "\n",
        "\n",
        "$$\n",
        "P = \\left[\\begin{array}{llll}\n",
        "{v}_{1} & {v}_{2} & \\cdots & {v}_{n}\n",
        "\\end{array}\\right]\\\\\n",
        "$$\n",
        "\n",
        "$$\n",
        "D = \\left[\\begin{array}{cccc}\n",
        "\\lambda_{1} & 0 & \\cdots & 0 \\\\\n",
        "0 & \\lambda_{2} & \\cdots & 0 \\\\\n",
        "\\vdots & \\vdots & & \\vdots \\\\\n",
        "0 & 0 & \\cdots & \\lambda_{n}\n",
        "\\end{array}\\right]\n",
        "$$\n",
        "\n",
        "where $v_i, i \\in (1, 2, ...n)$ is an eigenvector of $A$, $\\lambda_i, i \\in (1, 2, ...n)$ is an eigenvalue of $A$."
      ]
    },
    {
      "cell_type": "markdown",
      "metadata": {
        "id": "N7JF7VBeJCUT"
      },
      "source": [
        "$$\n",
        "AP = A\\left[\\begin{array}{llll}\n",
        "{v}_{1} & {v}_{2} & \\cdots & {v}_{n}\n",
        "\\end{array}\\right]=\\left[\\begin{array}{llll}\n",
        "A {v}_{1} & A {v}_{2} & \\cdots & A {v}_{n}\n",
        "\\end{array}\\right]\n",
        "$$"
      ]
    },
    {
      "cell_type": "markdown",
      "metadata": {
        "id": "PDzLUDkeJCUT"
      },
      "source": [
        "$$P D=\\left[\\begin{array}{llll}\n",
        "{v}_{1} & {v}_{2} & \\cdots & {v}_{n}\n",
        "\\end{array}\\right]\\left[\\begin{array}{cccc}\n",
        "\\lambda_{1} & 0 & \\cdots & 0 \\\\\n",
        "0 & \\lambda_{2} & \\cdots & 0 \\\\\n",
        "\\vdots & \\vdots & & \\vdots \\\\\n",
        "0 & 0 & \\cdots & \\lambda_{n}\n",
        "\\end{array}\\right]=\\left[\\begin{array}{lllll}\n",
        "\\lambda_{1} {v}_{1} & \\lambda_{2} {v}_{2} & \\cdots & \\lambda_{n} {v}_{n}\n",
        "\\end{array}\\right]$$"
      ]
    },
    {
      "cell_type": "markdown",
      "metadata": {
        "id": "ZFUFmRCDJCUT"
      },
      "source": [
        "We know that $A{v}_i = \\lambda_i{v}_i$, i.e.\n",
        "\n",
        "$$\n",
        "AP = PD\n",
        "$$\n",
        "\n",
        "Since $P$ has all independent eigenvectors, then\n",
        "\n",
        "$$\n",
        "A = PDP^{-1}\n",
        "$$"
      ]
    },
    {
      "cell_type": "markdown",
      "metadata": {
        "id": "UpVBMtapJCUU"
      },
      "source": [
        "Strictly speaking, if $A$ is symmetric, i.e. $A=A^T$, the procedure above called _Spectral decomposition_, the similar matrix $D$ holds all the eigenvalues on its diagonal. And $P$ is orthogonal matrix, which means any of of its two columns are perpendicular. Therefore it could be rewritten as\n",
        "$$\n",
        "A = PDP^{T}\n",
        "$$\n",
        "\n",
        "We can show why all eigenvectors are orthogonal to each other:\n",
        "Set up two equations\n",
        "$$\n",
        "A \\mathbf{v}_1=\\lambda_1 \\mathbf{v}_1\\\\\n",
        "A \\mathbf{v}_2=\\lambda_2 \\mathbf{v}_2\n",
        "$$\n",
        "Take the transpose of the first equation and multiply by $\\mathbf{v}_2$ :\n",
        "$$\n",
        "\\mathbf{v}_1^T A^T \\mathbf{v}_2=\\lambda_1 \\mathbf{v}_1^T \\mathbf{v}_2\n",
        "$$\n",
        "Since $A$ is symmetric $\\left(A=A^T\\right)$ :\n",
        "$$\n",
        "\\mathbf{v}_1^T A \\mathbf{v}_2=\\lambda_1 \\mathbf{v}_1^T \\mathbf{v}_2\n",
        "$$\n",
        "\n",
        "Substitute $A \\mathbf{v}_2=\\lambda_2 \\mathbf{v}_2$ into the equation:\n",
        "$$\n",
        "\\mathbf{v}_1^T\\left(\\lambda_2 \\mathbf{v}_2\\right)=\\lambda_1 \\mathbf{v}_1^T \\mathbf{v}_2\n",
        "$$\n",
        "Simplify to get:\n",
        "$$\n",
        "\\lambda_2 \\mathbf{v}_1^T \\mathbf{v}_2=\\lambda_1 \\mathbf{v}_1^T \\mathbf{v}_2\n",
        "$$\n",
        "\n",
        "Since $\\lambda_1 \\neq \\lambda_2$ :\n",
        "$$\n",
        "\\left(\\lambda_2-\\lambda_1\\right) \\mathbf{v}_1^T \\mathbf{v}_2=0\n",
        "$$\n",
        "This implies that $\\mathbf{v}_1^T \\mathbf{v}_2=0$, meaning $\\mathbf{v}_1$ and $\\mathbf{v}_2$ are orthogonal."
      ]
    },
    {
      "cell_type": "markdown",
      "metadata": {
        "id": "vkfAz-4IJCUU"
      },
      "source": [
        "\n",
        "Correlation/covariance matrix is a good example, which is symmetric and square, its all eigenvalues are real."
      ]
    },
    {
      "cell_type": "markdown",
      "metadata": {
        "id": "KfvN3fujJCUV"
      },
      "source": [
        "# <font face=\"gotham\" color=\"purple\"> Diagonalizing a Matrix</font>"
      ]
    },
    {
      "cell_type": "markdown",
      "metadata": {
        "id": "obtDrozCJCUW"
      },
      "source": [
        "Consider a matrix\n",
        "\n",
        "$$A=\\left[\\begin{array}{rrr}\n",
        "1 & 3 & 3 \\\\\n",
        "-3 & -5 & -3 \\\\\n",
        "3 & 3 & 1\n",
        "\\end{array}\\right]$$\n",
        "\n",
        "We seek to diagonalize the matrix $A$."
      ]
    },
    {
      "cell_type": "markdown",
      "metadata": {
        "id": "z2AuotjLJCUW"
      },
      "source": [
        "Following these steps:\n",
        "\n",
        "1. Compute the eigenvalues of $A$\n",
        "2. Compute the eigenvectors of $A$\n",
        "3. Construct $P$.\n",
        "4. Construct $D$ from the corresponding columns of $P$."
      ]
    },
    {
      "cell_type": "code",
      "execution_count": 3,
      "metadata": {
        "colab": {
          "base_uri": "https://localhost:8080/",
          "height": 78
        },
        "id": "ioc0OxOlJCUW",
        "outputId": "67e6dff6-5665-485a-cdf7-728e009e4c04"
      },
      "outputs": [
        {
          "output_type": "execute_result",
          "data": {
            "text/plain": [
              "⎡⎛       ⎡⎡-1⎤  ⎡-1⎤⎤⎞  ⎛      ⎡⎡1 ⎤⎤⎞⎤\n",
              "⎢⎜       ⎢⎢  ⎥  ⎢  ⎥⎥⎟  ⎜      ⎢⎢  ⎥⎥⎟⎥\n",
              "⎢⎜-2, 2, ⎢⎢1 ⎥, ⎢0 ⎥⎥⎟, ⎜1, 1, ⎢⎢-1⎥⎥⎟⎥\n",
              "⎢⎜       ⎢⎢  ⎥  ⎢  ⎥⎥⎟  ⎜      ⎢⎢  ⎥⎥⎟⎥\n",
              "⎣⎝       ⎣⎣0 ⎦  ⎣1 ⎦⎦⎠  ⎝      ⎣⎣1 ⎦⎦⎠⎦"
            ],
            "text/latex": "$\\displaystyle \\left[ \\left( -2, \\  2, \\  \\left[ \\left[\\begin{matrix}-1\\\\1\\\\0\\end{matrix}\\right], \\  \\left[\\begin{matrix}-1\\\\0\\\\1\\end{matrix}\\right]\\right]\\right), \\  \\left( 1, \\  1, \\  \\left[ \\left[\\begin{matrix}1\\\\-1\\\\1\\end{matrix}\\right]\\right]\\right)\\right]$"
          },
          "metadata": {},
          "execution_count": 3
        }
      ],
      "source": [
        "A = sy.Matrix([[1,3,3], [-3, -5, -3], [3,3,1]])\n",
        "eig = A.eigenvects()\n",
        "eig"
      ]
    },
    {
      "cell_type": "markdown",
      "metadata": {
        "id": "A3gKwpiDJCUW"
      },
      "source": [
        "Reminder the return value takes the form ```[(eigenval, multiplicity, eigenspace), ...]```."
      ]
    },
    {
      "cell_type": "markdown",
      "metadata": {
        "id": "BJ3sIIxaJCUW"
      },
      "source": [
        "Construct $P$"
      ]
    },
    {
      "cell_type": "code",
      "execution_count": 4,
      "metadata": {
        "colab": {
          "base_uri": "https://localhost:8080/",
          "height": 78
        },
        "id": "JynDfCwqJCUW",
        "outputId": "d188ab4c-24aa-4448-ae68-d4b63bf6849f"
      },
      "outputs": [
        {
          "output_type": "execute_result",
          "data": {
            "text/plain": [
              "⎡-1  -1  1 ⎤\n",
              "⎢          ⎥\n",
              "⎢1   0   -1⎥\n",
              "⎢          ⎥\n",
              "⎣0   1   1 ⎦"
            ],
            "text/latex": "$\\displaystyle \\left[\\begin{matrix}-1 & -1 & 1\\\\1 & 0 & -1\\\\0 & 1 & 1\\end{matrix}\\right]$"
          },
          "metadata": {},
          "execution_count": 4
        }
      ],
      "source": [
        "P = sy.zeros(3, 3)\n",
        "P[:, 0] = eig[0][2][0]\n",
        "P[:, 1] = eig[0][2][1]\n",
        "P[:, 2] = eig[1][2][0]\n",
        "P"
      ]
    },
    {
      "cell_type": "markdown",
      "metadata": {
        "id": "hCzkzFP_JCUX"
      },
      "source": [
        "Construct $D$"
      ]
    },
    {
      "cell_type": "code",
      "execution_count": 5,
      "metadata": {
        "colab": {
          "base_uri": "https://localhost:8080/",
          "height": 78
        },
        "id": "atzfSZHLJCUX",
        "outputId": "4962842b-153c-464f-d222-e7d0d740c5c2"
      },
      "outputs": [
        {
          "output_type": "execute_result",
          "data": {
            "text/plain": [
              "⎡-2  0   0⎤\n",
              "⎢         ⎥\n",
              "⎢0   -2  0⎥\n",
              "⎢         ⎥\n",
              "⎣0   0   1⎦"
            ],
            "text/latex": "$\\displaystyle \\left[\\begin{matrix}-2 & 0 & 0\\\\0 & -2 & 0\\\\0 & 0 & 1\\end{matrix}\\right]$"
          },
          "metadata": {},
          "execution_count": 5
        }
      ],
      "source": [
        "D = sy.diag(eig[0][0], eig[0][0], eig[1][0])\n",
        "D"
      ]
    },
    {
      "cell_type": "markdown",
      "metadata": {
        "id": "XTilkhaDJCUX"
      },
      "source": [
        "We can verify if $PDP^{-1}=A$ holds:"
      ]
    },
    {
      "cell_type": "code",
      "execution_count": 6,
      "metadata": {
        "colab": {
          "base_uri": "https://localhost:8080/"
        },
        "id": "DG3O5qPxJCUX",
        "outputId": "c6a9beea-66c5-4588-a2e6-9bc12e3a416c"
      },
      "outputs": [
        {
          "output_type": "execute_result",
          "data": {
            "text/plain": [
              "True"
            ]
          },
          "metadata": {},
          "execution_count": 6
        }
      ],
      "source": [
        "P * D * P.inv() == A"
      ]
    },
    {
      "cell_type": "markdown",
      "metadata": {
        "id": "tyYJzppcJCUX"
      },
      "source": [
        "Of course we don't need to go through this process seperately. There is ```diagonalize``` method in SymPy."
      ]
    },
    {
      "cell_type": "code",
      "execution_count": 7,
      "metadata": {
        "id": "qTe319-YJCUY"
      },
      "outputs": [],
      "source": [
        "P, D = A.diagonalize()"
      ]
    },
    {
      "cell_type": "code",
      "execution_count": 8,
      "metadata": {
        "colab": {
          "base_uri": "https://localhost:8080/",
          "height": 78
        },
        "id": "S2yGOT0gJCUY",
        "outputId": "4cbe6993-7506-4a5e-d489-392309cd8579"
      },
      "outputs": [
        {
          "output_type": "execute_result",
          "data": {
            "text/plain": [
              "⎡-1  -1  1 ⎤\n",
              "⎢          ⎥\n",
              "⎢1   0   -1⎥\n",
              "⎢          ⎥\n",
              "⎣0   1   1 ⎦"
            ],
            "text/latex": "$\\displaystyle \\left[\\begin{matrix}-1 & -1 & 1\\\\1 & 0 & -1\\\\0 & 1 & 1\\end{matrix}\\right]$"
          },
          "metadata": {},
          "execution_count": 8
        }
      ],
      "source": [
        "P"
      ]
    },
    {
      "cell_type": "code",
      "execution_count": 9,
      "metadata": {
        "colab": {
          "base_uri": "https://localhost:8080/",
          "height": 78
        },
        "id": "s2dJjNrMJCUY",
        "outputId": "43a72bdb-cbc8-46cf-8369-e5b72fc3772e"
      },
      "outputs": [
        {
          "output_type": "execute_result",
          "data": {
            "text/plain": [
              "⎡-2  0   0⎤\n",
              "⎢         ⎥\n",
              "⎢0   -2  0⎥\n",
              "⎢         ⎥\n",
              "⎣0   0   1⎦"
            ],
            "text/latex": "$\\displaystyle \\left[\\begin{matrix}-2 & 0 & 0\\\\0 & -2 & 0\\\\0 & 0 & 1\\end{matrix}\\right]$"
          },
          "metadata": {},
          "execution_count": 9
        }
      ],
      "source": [
        "D"
      ]
    },
    {
      "cell_type": "markdown",
      "metadata": {
        "id": "RMufnKdOJCUY"
      },
      "source": [
        "We obtain the same results as previous separate steps."
      ]
    },
    {
      "cell_type": "markdown",
      "metadata": {
        "id": "ggN5ajjwJCUZ"
      },
      "source": [
        "Sometimes we just want to test if a matrix is diagonalizable, then use ```is_diagonalizable``` in SymPy."
      ]
    },
    {
      "cell_type": "code",
      "execution_count": 10,
      "metadata": {
        "colab": {
          "base_uri": "https://localhost:8080/"
        },
        "id": "DjV5Y7bnJCUZ",
        "outputId": "2229516e-51c2-44f3-ed58-60e064df2ba7"
      },
      "outputs": [
        {
          "output_type": "execute_result",
          "data": {
            "text/plain": [
              "True"
            ]
          },
          "metadata": {},
          "execution_count": 10
        }
      ],
      "source": [
        "A.is_diagonalizable()"
      ]
    }
  ],
  "metadata": {
    "kernelspec": {
      "display_name": "Python 3 (ipykernel)",
      "language": "python",
      "name": "python3"
    },
    "language_info": {
      "codemirror_mode": {
        "name": "ipython",
        "version": 3
      },
      "file_extension": ".py",
      "mimetype": "text/x-python",
      "name": "python",
      "nbconvert_exporter": "python",
      "pygments_lexer": "ipython3",
      "version": "3.12.4"
    },
    "toc": {
      "base_numbering": 1,
      "nav_menu": {},
      "number_sections": true,
      "sideBar": true,
      "skip_h1_title": false,
      "title_cell": "Table of Contents",
      "title_sidebar": "Contents",
      "toc_cell": false,
      "toc_position": {},
      "toc_section_display": true,
      "toc_window_display": false
    },
    "colab": {
      "provenance": []
    }
  },
  "nbformat": 4,
  "nbformat_minor": 0
}