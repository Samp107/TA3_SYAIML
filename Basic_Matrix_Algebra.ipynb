{
  "cells": [
    {
      "cell_type": "markdown",
      "source": [
        "#Question:\n",
        "#Take any two matrices of suitable order and perform following operations\n",
        "1. Addition\n",
        "2. Substraction\n",
        "3. Multiplication\n",
        "4. Transpose\n",
        "5. find inverse for each matrix\n"
      ],
      "metadata": {
        "id": "OQVvghQZHYlN"
      }
    },
    {
      "cell_type": "code",
      "execution_count": null,
      "metadata": {
        "id": "qPZfg2yy4lAU"
      },
      "outputs": [],
      "source": [
        "import numpy as np\n",
        "import sympy as sy\n",
        "sy.init_printing()"
      ]
    },
    {
      "cell_type": "code",
      "execution_count": null,
      "metadata": {
        "id": "cId-iObz4lAX"
      },
      "outputs": [],
      "source": [
        "def round_expr(expr, num_digits):\n",
        "    return expr.xreplace({n : round(n, num_digits) for n in expr.atoms(sy.Number)})"
      ]
    },
    {
      "cell_type": "markdown",
      "metadata": {
        "id": "R1sZuVmR4lAY"
      },
      "source": [
        "# <font face=\"gotham\" color=\"purple\"> Matrix Operations</font>"
      ]
    },
    {
      "cell_type": "markdown",
      "metadata": {
        "id": "ng-RTIOv4lAZ"
      },
      "source": [
        "Matrix _addition_ operations are straightforward:\n",
        "1. $A+ B= B+ A$\n",
        "2. $(A+B)+ C=A+(B+C)$\n",
        "3. $c(A+B)=cA+cB$\n",
        "4. $(c+d)A=cA+c{D}$\n",
        "5. $c(dA)=(cd)A$\n",
        "6. $A+{0}=A$, where ${0}$ is the zero matrix\n",
        "7. For any $A$, there exists an $- A$, such that $ A+(- A)=0$.\n",
        "\n",
        "They are as obvious as it looks, so no proofs are provided. And the matrix _multiplication_ properties are:\n",
        "1. $ A({BC})=({AB}) C$\n",
        "2. $c({AB})=(cA)B=A(cB)$\n",
        "3. $A(B+ C)={AB}+{AC}$\n",
        "4. $(B+C)A={BA}+{CA}$"
      ]
    },
    {
      "cell_type": "markdown",
      "metadata": {
        "id": "1XVd6tbR4lAZ"
      },
      "source": [
        "Note that we need to differentiate between two types of multiplication: _Hadamard multiplication_, denoted as $A \\odot B$ (element-wise multiplication), and _matrix multiplication_, denoted simply as $AB$."
      ]
    },
    {
      "cell_type": "code",
      "execution_count": null,
      "metadata": {
        "id": "8pfHm93d4lAa"
      },
      "outputs": [],
      "source": [
        "A = np.array([[1, 2], [3, 4]])\n",
        "B = np.array([[5, 6], [7, 8]])"
      ]
    },
    {
      "cell_type": "code",
      "execution_count": null,
      "metadata": {
        "colab": {
          "base_uri": "https://localhost:8080/"
        },
        "id": "w0TOP32P4lAa",
        "outputId": "69645ad9-9a61-4389-e7e6-65cc7815f797"
      },
      "outputs": [
        {
          "output_type": "execute_result",
          "data": {
            "text/plain": [
              "array([[ 5, 12],\n",
              "       [21, 32]])"
            ]
          },
          "metadata": {},
          "execution_count": 10
        }
      ],
      "source": [
        "A*B # this is Hadamard elementwise product"
      ]
    },
    {
      "cell_type": "code",
      "execution_count": null,
      "metadata": {
        "colab": {
          "base_uri": "https://localhost:8080/"
        },
        "id": "O8vU18ex4lAb",
        "outputId": "271cbb61-4038-4b73-add8-a5280e67d6cc"
      },
      "outputs": [
        {
          "output_type": "execute_result",
          "data": {
            "text/plain": [
              "array([[19, 22],\n",
              "       [43, 50]])"
            ]
          },
          "metadata": {},
          "execution_count": 11
        }
      ],
      "source": [
        "A@B # this is matrix product"
      ]
    },
    {
      "cell_type": "markdown",
      "metadata": {
        "id": "futWr3eR4lAb"
      },
      "source": [
        "## <font face=\"gotham\" color=\"purple\"> SymPy Demonstration: Addition </font>"
      ]
    },
    {
      "cell_type": "markdown",
      "source": [
        "Let's define all the letters as symbols in case we need to use them repeatedly. With this library, we can perform computations analytically, making it a valuable tool for learning linear algebra."
      ],
      "metadata": {
        "id": "hQzi_Wbh5bh6"
      }
    },
    {
      "cell_type": "code",
      "execution_count": null,
      "metadata": {
        "id": "xbiMQt534lAc"
      },
      "outputs": [],
      "source": [
        "a, b, c, d, e, f, g, h, i, j, k, l, m, n, o, p, q, r, s, t, u, v, w, x, y, z = sy.symbols('a, b, c, d, e, f, g, h, i, j, k, l, m, n, o, p, q, r, s, t, u, v, w, x, y, z', real = True)"
      ]
    },
    {
      "cell_type": "code",
      "execution_count": null,
      "metadata": {
        "colab": {
          "base_uri": "https://localhost:8080/",
          "height": 98
        },
        "id": "ar-a5oU64lAd",
        "outputId": "5d53e502-6d07-4eba-e72f-4233a3f3335a"
      },
      "outputs": [
        {
          "output_type": "execute_result",
          "data": {
            "text/plain": [
              "⎡2⋅a  2⋅b  2⋅c⎤\n",
              "⎢             ⎥\n",
              "⎣2⋅d  2⋅e  2⋅f⎦"
            ],
            "text/latex": "$\\displaystyle \\left[\\begin{matrix}2 a & 2 b & 2 c\\\\2 d & 2 e & 2 f\\end{matrix}\\right]$"
          },
          "metadata": {},
          "execution_count": 13
        },
        {
          "output_type": "execute_result",
          "data": {
            "text/plain": [
              "⎡0  0  0⎤\n",
              "⎢       ⎥\n",
              "⎣0  0  0⎦"
            ],
            "text/latex": "$\\displaystyle \\left[\\begin{matrix}0 & 0 & 0\\\\0 & 0 & 0\\end{matrix}\\right]$"
          },
          "metadata": {},
          "execution_count": 13
        }
      ],
      "source": [
        "A = sy.Matrix([[a, b, c], [d, e, f]])\n",
        "A + A\n",
        "A - A"
      ]
    },
    {
      "cell_type": "code",
      "execution_count": null,
      "metadata": {
        "colab": {
          "base_uri": "https://localhost:8080/",
          "height": 98
        },
        "id": "c6NEdGpZ4lAd",
        "outputId": "09c8aa35-de05-4588-af27-ec48dbab63ba"
      },
      "outputs": [
        {
          "output_type": "execute_result",
          "data": {
            "text/plain": [
              "⎡a + g  b + h  c + i⎤\n",
              "⎢                   ⎥\n",
              "⎣d + j  e + k  f + l⎦"
            ],
            "text/latex": "$\\displaystyle \\left[\\begin{matrix}a + g & b + h & c + i\\\\d + j & e + k & f + l\\end{matrix}\\right]$"
          },
          "metadata": {},
          "execution_count": 15
        },
        {
          "output_type": "execute_result",
          "data": {
            "text/plain": [
              "⎡a - g  b - h  c - i⎤\n",
              "⎢                   ⎥\n",
              "⎣d - j  e - k  f - l⎦"
            ],
            "text/latex": "$\\displaystyle \\left[\\begin{matrix}a - g & b - h & c - i\\\\d - j & e - k & f - l\\end{matrix}\\right]$"
          },
          "metadata": {},
          "execution_count": 15
        }
      ],
      "source": [
        "B = sy.Matrix([[g, h, i], [j, k, l]])\n",
        "A + B\n",
        "\n",
        "A - B"
      ]
    },
    {
      "cell_type": "markdown",
      "metadata": {
        "id": "BQKZc-jz4lAd"
      },
      "source": [
        "## <font face=\"gotham\" color=\"purple\"> SymPy Demonstration: Multiplication </font>"
      ]
    },
    {
      "cell_type": "markdown",
      "metadata": {
        "id": "4PIDwGEF4lAd"
      },
      "source": [
        "The matrix multiplication rules can be clearly understood by using symbols."
      ]
    },
    {
      "cell_type": "code",
      "execution_count": null,
      "metadata": {
        "colab": {
          "base_uri": "https://localhost:8080/",
          "height": 119
        },
        "id": "7bbxh93L4lAd",
        "outputId": "aeaaecb4-ee97-4651-98bd-6c7cdddbec50"
      },
      "outputs": [
        {
          "output_type": "execute_result",
          "data": {
            "text/plain": [
              "⎡a  b  c⎤\n",
              "⎢       ⎥\n",
              "⎣d  e  f⎦"
            ],
            "text/latex": "$\\displaystyle \\left[\\begin{matrix}a & b & c\\\\d & e & f\\end{matrix}\\right]$"
          },
          "metadata": {},
          "execution_count": 16
        },
        {
          "output_type": "execute_result",
          "data": {
            "text/plain": [
              "⎡g  h  i⎤\n",
              "⎢       ⎥\n",
              "⎢j  k  l⎥\n",
              "⎢       ⎥\n",
              "⎣m  n  o⎦"
            ],
            "text/latex": "$\\displaystyle \\left[\\begin{matrix}g & h & i\\\\j & k & l\\\\m & n & o\\end{matrix}\\right]$"
          },
          "metadata": {},
          "execution_count": 16
        }
      ],
      "source": [
        "A = sy.Matrix([[a, b, c], [d, e, f]])\n",
        "B = sy.Matrix([[g, h, i], [j, k, l], [m, n, o]])\n",
        "A\n",
        "B"
      ]
    },
    {
      "cell_type": "code",
      "execution_count": null,
      "metadata": {
        "colab": {
          "base_uri": "https://localhost:8080/",
          "height": 58
        },
        "id": "tXaV0iyJ4lAe",
        "outputId": "b0b78fd5-8293-4e43-ff3e-283d1847284b"
      },
      "outputs": [
        {
          "output_type": "execute_result",
          "data": {
            "text/plain": [
              "⎡a⋅g + b⋅j + c⋅m  a⋅h + b⋅k + c⋅n  a⋅i + b⋅l + c⋅o⎤\n",
              "⎢                                                 ⎥\n",
              "⎣d⋅g + e⋅j + f⋅m  d⋅h + e⋅k + f⋅n  d⋅i + e⋅l + f⋅o⎦"
            ],
            "text/latex": "$\\displaystyle \\left[\\begin{matrix}a g + b j + c m & a h + b k + c n & a i + b l + c o\\\\d g + e j + f m & d h + e k + f n & d i + e l + f o\\end{matrix}\\right]$"
          },
          "metadata": {},
          "execution_count": 17
        }
      ],
      "source": [
        "AB = A*B; AB"
      ]
    },
    {
      "cell_type": "markdown",
      "metadata": {
        "id": "dylK1qwS4lAe"
      },
      "source": [
        "## <font face=\"gotham\" color=\"purple\"> Commutability </font>"
      ]
    },
    {
      "cell_type": "markdown",
      "metadata": {
        "id": "clZ2qmC54lAe"
      },
      "source": [
        "Matrix multiplication usually does not commute, meaning ${AB} \\neq {BA}$. For instance, consider matrices $A$ and $B$:"
      ]
    },
    {
      "cell_type": "code",
      "execution_count": null,
      "metadata": {
        "colab": {
          "base_uri": "https://localhost:8080/",
          "height": 98
        },
        "id": "2tMZTCwH4lAe",
        "outputId": "6a3c263e-c95e-478f-9249-1cbe1d6c3859"
      },
      "outputs": [
        {
          "output_type": "execute_result",
          "data": {
            "text/plain": [
              "⎡23  13⎤\n",
              "⎢      ⎥\n",
              "⎣51  29⎦"
            ],
            "text/latex": "$\\displaystyle \\left[\\begin{matrix}23 & 13\\\\51 & 29\\end{matrix}\\right]$"
          },
          "metadata": {},
          "execution_count": 18
        },
        {
          "output_type": "execute_result",
          "data": {
            "text/plain": [
              "⎡36  44⎤\n",
              "⎢      ⎥\n",
              "⎣13  16⎦"
            ],
            "text/latex": "$\\displaystyle \\left[\\begin{matrix}36 & 44\\\\13 & 16\\end{matrix}\\right]$"
          },
          "metadata": {},
          "execution_count": 18
        }
      ],
      "source": [
        "A = sy.Matrix([[3, 4], [7, 8]])\n",
        "B = sy.Matrix([[5, 3], [2, 1]])\n",
        "A*B\n",
        "B*A"
      ]
    },
    {
      "cell_type": "markdown",
      "metadata": {
        "id": "nqeu_4Ot4lAe"
      },
      "source": [
        "How do we find a commutable matrix? Let's try find out analytically"
      ]
    },
    {
      "cell_type": "code",
      "execution_count": null,
      "metadata": {
        "colab": {
          "base_uri": "https://localhost:8080/",
          "height": 98
        },
        "id": "mcU0kgI74lAe",
        "outputId": "3b44ee7a-6514-48ca-a79f-cd3808625de8"
      },
      "outputs": [
        {
          "output_type": "execute_result",
          "data": {
            "text/plain": [
              "⎡a⋅e + b⋅g  a⋅f + b⋅h⎤\n",
              "⎢                    ⎥\n",
              "⎣c⋅e + d⋅g  c⋅f + d⋅h⎦"
            ],
            "text/latex": "$\\displaystyle \\left[\\begin{matrix}a e + b g & a f + b h\\\\c e + d g & c f + d h\\end{matrix}\\right]$"
          },
          "metadata": {},
          "execution_count": 19
        },
        {
          "output_type": "execute_result",
          "data": {
            "text/plain": [
              "⎡a⋅e + c⋅f  b⋅e + d⋅f⎤\n",
              "⎢                    ⎥\n",
              "⎣a⋅g + c⋅h  b⋅g + d⋅h⎦"
            ],
            "text/latex": "$\\displaystyle \\left[\\begin{matrix}a e + c f & b e + d f\\\\a g + c h & b g + d h\\end{matrix}\\right]$"
          },
          "metadata": {},
          "execution_count": 19
        }
      ],
      "source": [
        "A = sy.Matrix([[a, b], [c, d]])\n",
        "B = sy.Matrix([[e, f], [g, h]])\n",
        "A*B\n",
        "B*A"
      ]
    },
    {
      "cell_type": "markdown",
      "metadata": {
        "id": "TXsToKwS4lAh"
      },
      "source": [
        "# <font face=\"gotham\" color=\"purple\"> Transpose of Matrices </font>"
      ]
    },
    {
      "cell_type": "markdown",
      "metadata": {
        "id": "tUgyhX_I4lAh"
      },
      "source": [
        "Matrix $A_{n\\times m}$ and its transpose is"
      ]
    },
    {
      "cell_type": "code",
      "execution_count": null,
      "metadata": {
        "id": "qgvPOaqA4lAh",
        "outputId": "dac1000c-46b7-4e30-adfe-ffdf01077fda"
      },
      "outputs": [
        {
          "data": {
            "text/latex": [
              "$\\displaystyle \\left[\\begin{matrix}1 & 2 & 3\\\\4 & 5 & 6\\end{matrix}\\right]$"
            ],
            "text/plain": [
              "⎡1  2  3⎤\n",
              "⎢       ⎥\n",
              "⎣4  5  6⎦"
            ]
          },
          "execution_count": 73,
          "metadata": {},
          "output_type": "execute_result"
        },
        {
          "data": {
            "text/latex": [
              "$\\displaystyle \\left[\\begin{matrix}1 & 4\\\\2 & 5\\\\3 & 6\\end{matrix}\\right]$"
            ],
            "text/plain": [
              "⎡1  4⎤\n",
              "⎢    ⎥\n",
              "⎢2  5⎥\n",
              "⎢    ⎥\n",
              "⎣3  6⎦"
            ]
          },
          "execution_count": 73,
          "metadata": {},
          "output_type": "execute_result"
        }
      ],
      "source": [
        "A = sy.Matrix([[1, 2, 3], [4, 5, 6]]); A\n",
        "A.transpose()"
      ]
    },
    {
      "cell_type": "markdown",
      "metadata": {
        "id": "w73wwo1j4lAm"
      },
      "source": [
        "The properties of transpose are\n",
        "1. $(A^T)^T$\n",
        "2. $(A+B)^T=A^T+B^T$\n",
        "3. $(cA)^T=cA^T$\n",
        "4. $(AB)^T=B^TA^T$\n",
        "\n",
        "We can show why the last property holds with SymPy, define $A$ and $B$, multiply them, then transpose, that means $(AB)^T$"
      ]
    },
    {
      "cell_type": "code",
      "execution_count": null,
      "metadata": {
        "id": "4HRqE4ky4lAm",
        "outputId": "4c3aaf67-5083-476f-c61c-58098a35dd52"
      },
      "outputs": [
        {
          "data": {
            "text/latex": [
              "$\\displaystyle \\left[\\begin{matrix}a g + b j & c g + d j & e g + f j\\\\a h + b k & c h + d k & e h + f k\\\\a i + b l & c i + d l & e i + f l\\end{matrix}\\right]$"
            ],
            "text/plain": [
              "⎡a⋅g + b⋅j  c⋅g + d⋅j  e⋅g + f⋅j⎤\n",
              "⎢                               ⎥\n",
              "⎢a⋅h + b⋅k  c⋅h + d⋅k  e⋅h + f⋅k⎥\n",
              "⎢                               ⎥\n",
              "⎣a⋅i + b⋅l  c⋅i + d⋅l  e⋅i + f⋅l⎦"
            ]
          },
          "execution_count": 111,
          "metadata": {},
          "output_type": "execute_result"
        }
      ],
      "source": [
        "A = sy.Matrix([[a, b], [c, d], [e, f]])\n",
        "B = sy.Matrix([[g, h, i], [j, k, l]])\n",
        "AB = A*B\n",
        "AB_t = AB.transpose(); AB_t"
      ]
    },
    {
      "cell_type": "markdown",
      "metadata": {
        "id": "TpN79iOk4lAm"
      },
      "source": [
        "Transpose $A$ and $B$, then multiply, meaning $B^TA^T$"
      ]
    },
    {
      "cell_type": "code",
      "execution_count": null,
      "metadata": {
        "id": "lJrVTZQA4lAm",
        "outputId": "4ff8148b-015d-4de5-a927-dd62f37fd3ea"
      },
      "outputs": [
        {
          "data": {
            "text/latex": [
              "$\\displaystyle \\left[\\begin{matrix}a g + b j & c g + d j & e g + f j\\\\a h + b k & c h + d k & e h + f k\\\\a i + b l & c i + d l & e i + f l\\end{matrix}\\right]$"
            ],
            "text/plain": [
              "⎡a⋅g + b⋅j  c⋅g + d⋅j  e⋅g + f⋅j⎤\n",
              "⎢                               ⎥\n",
              "⎢a⋅h + b⋅k  c⋅h + d⋅k  e⋅h + f⋅k⎥\n",
              "⎢                               ⎥\n",
              "⎣a⋅i + b⋅l  c⋅i + d⋅l  e⋅i + f⋅l⎦"
            ]
          },
          "execution_count": 112,
          "metadata": {},
          "output_type": "execute_result"
        }
      ],
      "source": [
        "B_t_A_t = B.transpose()*A.transpose()\n",
        "B_t_A_t"
      ]
    },
    {
      "cell_type": "markdown",
      "metadata": {
        "id": "N8hI7ACg4lAm"
      },
      "source": [
        "Check if they are equal"
      ]
    },
    {
      "cell_type": "code",
      "execution_count": null,
      "metadata": {
        "id": "g6B_E2Es4lAm",
        "outputId": "ec6ee0ea-6574-4666-89fb-de34106ab124"
      },
      "outputs": [
        {
          "data": {
            "text/plain": [
              "True"
            ]
          },
          "execution_count": 114,
          "metadata": {},
          "output_type": "execute_result"
        }
      ],
      "source": [
        "AB_t == B_t_A_t"
      ]
    },
    {
      "cell_type": "markdown",
      "metadata": {
        "id": "B8lIJjcC4lAn"
      },
      "source": [
        "# <font face=\"gotham\" color=\"purple\"> Identity Matrices </font>"
      ]
    },
    {
      "cell_type": "markdown",
      "metadata": {
        "id": "4lViotdR4lAn"
      },
      "source": [
        "This is an identity matrix $I_5$, only $1$'s on principal diagonal, all rest elements are $0$'s."
      ]
    },
    {
      "cell_type": "code",
      "execution_count": null,
      "metadata": {
        "id": "fHr6nI1c4lAn",
        "outputId": "9fca1b89-0336-4291-c52f-500dc710226c"
      },
      "outputs": [
        {
          "data": {
            "text/latex": [
              "$\\displaystyle \\left[\\begin{matrix}1 & 0 & 0 & 0 & 0\\\\0 & 1 & 0 & 0 & 0\\\\0 & 0 & 1 & 0 & 0\\\\0 & 0 & 0 & 1 & 0\\\\0 & 0 & 0 & 0 & 1\\end{matrix}\\right]$"
            ],
            "text/plain": [
              "⎡1  0  0  0  0⎤\n",
              "⎢             ⎥\n",
              "⎢0  1  0  0  0⎥\n",
              "⎢             ⎥\n",
              "⎢0  0  1  0  0⎥\n",
              "⎢             ⎥\n",
              "⎢0  0  0  1  0⎥\n",
              "⎢             ⎥\n",
              "⎣0  0  0  0  1⎦"
            ]
          },
          "execution_count": 117,
          "metadata": {},
          "output_type": "execute_result"
        }
      ],
      "source": [
        "sy.eye(5)"
      ]
    },
    {
      "cell_type": "markdown",
      "metadata": {
        "id": "Zm6vqibf4lAn"
      },
      "source": [
        "Identity matrix properties:\n",
        "\n",
        "$$\n",
        "AI=IA = A\n",
        "$$"
      ]
    },
    {
      "cell_type": "markdown",
      "metadata": {
        "id": "8xVoIkHM4lAn"
      },
      "source": [
        "Let's generate $ I$ and $ A$ and show if it holds"
      ]
    },
    {
      "cell_type": "code",
      "execution_count": null,
      "metadata": {
        "id": "M3sx4iNl4lAn",
        "outputId": "d0cdca86-9509-443a-a85e-069a6c7c2fd8"
      },
      "outputs": [
        {
          "data": {
            "text/plain": [
              "array([[1., 0., 0., 0., 0.],\n",
              "       [0., 1., 0., 0., 0.],\n",
              "       [0., 0., 1., 0., 0.],\n",
              "       [0., 0., 0., 1., 0.],\n",
              "       [0., 0., 0., 0., 1.]])"
            ]
          },
          "execution_count": 118,
          "metadata": {},
          "output_type": "execute_result"
        }
      ],
      "source": [
        "I = np.eye(5); I"
      ]
    },
    {
      "cell_type": "code",
      "execution_count": null,
      "metadata": {
        "id": "sE42P39O4lAo",
        "outputId": "3b12a9b3-5599-47f6-8907-aa087564f39a"
      },
      "outputs": [
        {
          "data": {
            "text/plain": [
              "array([[42., 73., 33., 12., 98.],\n",
              "       [28., 33., 18., 45., 19.],\n",
              "       [47., 92., 58., 54., 15.],\n",
              "       [43., 16., 51., 58., 75.],\n",
              "       [27., 71., 16., 17.,  6.]])"
            ]
          },
          "execution_count": 119,
          "metadata": {},
          "output_type": "execute_result"
        }
      ],
      "source": [
        "A = np.around(np.random.rand(5, 5)*100); A # generate a random matrix"
      ]
    },
    {
      "cell_type": "markdown",
      "metadata": {
        "id": "_ya298ne4lAo"
      },
      "source": [
        "Check if they are equal"
      ]
    },
    {
      "cell_type": "code",
      "execution_count": null,
      "metadata": {
        "id": "TAlASA9o4lAo",
        "outputId": "59bc98bd-b863-40b1-fd9a-8f0ea52ba4a2"
      },
      "outputs": [
        {
          "data": {
            "text/plain": [
              "True"
            ]
          },
          "execution_count": 122,
          "metadata": {},
          "output_type": "execute_result"
        }
      ],
      "source": [
        "(A@I == I@A).all()"
      ]
    },
    {
      "cell_type": "markdown",
      "metadata": {
        "id": "np9qBY5v4lAr"
      },
      "source": [
        "# <font face=\"gotham\" color=\"purple\"> Inverse Matrices </font>"
      ]
    },
    {
      "cell_type": "markdown",
      "metadata": {
        "id": "QnYlfka34lAr"
      },
      "source": [
        "If ${AB}={BA}=\\mathbf{I}$, $ B$ is called the inverse of matrix $  A$, denoted as $ B=  A^{-1}$.\n"
      ]
    },
    {
      "cell_type": "markdown",
      "metadata": {
        "id": "ChZeIolH4lAr"
      },
      "source": [
        "NumPy has convenient function ```np.linalg.inv()``` for computing inverse matrices. Generate $ A$"
      ]
    },
    {
      "cell_type": "code",
      "execution_count": null,
      "metadata": {
        "id": "5Le063bQ4lAr",
        "outputId": "1e744c88-e35e-4b33-e691-f50cb6630d19"
      },
      "outputs": [
        {
          "data": {
            "text/plain": [
              "array([[-10., -14.,  16.,   3.,  -7.],\n",
              "       [  1.,  -3.,   9.,   5.,   0.],\n",
              "       [-15.,   2.,  -8.,  17.,  15.],\n",
              "       [ 23.,  -7.,  -6., -21.,  -7.],\n",
              "       [ 18.,   2.,  18.,  -6., -12.]])"
            ]
          },
          "execution_count": 87,
          "metadata": {},
          "output_type": "execute_result"
        }
      ],
      "source": [
        "A = np.round(10*np.random.randn(5,5)); A"
      ]
    },
    {
      "cell_type": "code",
      "execution_count": null,
      "metadata": {
        "scrolled": true,
        "id": "7WORFm_o4lAr",
        "outputId": "571d1d0f-efb0-4c7c-c775-4874627d6783"
      },
      "outputs": [
        {
          "data": {
            "text/plain": [
              "array([[ 0.131, -0.442,  0.357,  0.116,  0.302],\n",
              "       [-0.157,  0.346, -0.286, -0.115, -0.198],\n",
              "       [-0.336,  1.136, -0.736, -0.2  , -0.608],\n",
              "       [ 0.483, -1.549,  1.082,  0.267,  0.915],\n",
              "       [-0.575,  1.873, -1.158, -0.278, -1.032]])"
            ]
          },
          "execution_count": 88,
          "metadata": {},
          "output_type": "execute_result"
        }
      ],
      "source": [
        "Ainv = np.linalg.inv(A); Ainv"
      ]
    },
    {
      "cell_type": "markdown",
      "metadata": {
        "id": "-QpvbBzh4lAs"
      },
      "source": [
        "Verify if they are truly inverse of each other"
      ]
    },
    {
      "cell_type": "code",
      "execution_count": null,
      "metadata": {
        "scrolled": true,
        "id": "ojj8ixpO4lAs",
        "outputId": "efd368af-3740-42fe-b5c4-e7bb5be65ee0"
      },
      "outputs": [
        {
          "data": {
            "text/plain": [
              "array([[ 1.,  0.,  0., -0.,  0.],\n",
              "       [ 0.,  1.,  0.,  0.,  0.],\n",
              "       [ 0.,  0.,  1.,  0.,  0.],\n",
              "       [ 0., -0., -0.,  1., -0.],\n",
              "       [ 0., -0., -0., -0.,  1.]])"
            ]
          },
          "execution_count": 89,
          "metadata": {},
          "output_type": "execute_result"
        }
      ],
      "source": [
        "A@Ainv"
      ]
    },
    {
      "cell_type": "markdown",
      "metadata": {
        "id": "7E3CUmak4lAs"
      },
      "source": [
        "The ```-0.``` means there are more digits after point, but omitted here."
      ]
    },
    {
      "cell_type": "markdown",
      "source": [],
      "metadata": {
        "id": "kiyaYBcR62eC"
      }
    }
  ],
  "metadata": {
    "kernelspec": {
      "display_name": "Python 3",
      "language": "python",
      "name": "python3"
    },
    "language_info": {
      "codemirror_mode": {
        "name": "ipython",
        "version": 3
      },
      "file_extension": ".py",
      "mimetype": "text/x-python",
      "name": "python",
      "nbconvert_exporter": "python",
      "pygments_lexer": "ipython3",
      "version": "3.12.4"
    },
    "toc": {
      "base_numbering": 1,
      "nav_menu": {},
      "number_sections": true,
      "sideBar": true,
      "skip_h1_title": false,
      "title_cell": "Table of Contents",
      "title_sidebar": "Contents",
      "toc_cell": false,
      "toc_position": {},
      "toc_section_display": true,
      "toc_window_display": false
    },
    "colab": {
      "provenance": []
    }
  },
  "nbformat": 4,
  "nbformat_minor": 0
}