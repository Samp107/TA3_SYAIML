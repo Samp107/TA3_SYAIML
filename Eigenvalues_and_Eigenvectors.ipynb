{
  "cells": [
    {
      "cell_type": "markdown",
      "source": [
        "#Question\n",
        "#1.Take any two 3X3 matrices and find the eigen values and eigen vectors using python\n",
        "#2.Take any two 2X2 matrix and find the eigen values and eigen vectors and visualize it using python"
      ],
      "metadata": {
        "id": "ju2v-ZPXIKX1"
      }
    },
    {
      "cell_type": "code",
      "execution_count": 1,
      "metadata": {
        "id": "duvXyOnv8Piq"
      },
      "outputs": [],
      "source": [
        "import matplotlib.pyplot as plt\n",
        "import matplotlib as mpl\n",
        "import numpy as np\n",
        "import sympy as sy\n",
        "sy.init_printing()\n",
        "plt.style.use('ggplot')"
      ]
    },
    {
      "cell_type": "code",
      "execution_count": 2,
      "metadata": {
        "id": "HhlrF7B08Pir"
      },
      "outputs": [],
      "source": [
        "np.set_printoptions(precision=3)\n",
        "np.set_printoptions(suppress=True)"
      ]
    },
    {
      "cell_type": "markdown",
      "metadata": {
        "id": "uis0mxsz8Pis"
      },
      "source": [
        "# <font face=\"gotham\" color=\"purple\"> Eigenvalue and Eigenvector"
      ]
    },
    {
      "cell_type": "markdown",
      "metadata": {
        "id": "AFs2hJTj8Pit"
      },
      "source": [
        "An  _eigenvector_ of an $n \\times n$ matrix $A$ is a nonzero vector $x$ such that $Ax = \\lambda x$ for some scalar $\\lambda$. A scalar $\\lambda$ is called an _eigenvalue_ of $A$ if there is a nontrivial solution $x$ of $Ax = \\lambda x$, such an $x$ is called an eigenvector corresponding to $\\lambda$."
      ]
    },
    {
      "cell_type": "markdown",
      "metadata": {
        "id": "8RLzZVhN8Pit"
      },
      "source": [
        "Rewrite the equation,\n",
        "\n",
        "$$\n",
        "(A-\\lambda I)x = 0\n",
        "$$\n",
        "\n",
        "Since the eigenvector should be a nonzero vector, which means:\n",
        "\n",
        "1. The column or rows of $(A-\\lambda I)$ are linearly dependent\n",
        "2. $(A-\\lambda I)$ is not full rank, $Rank(A)<n$.\n",
        "3. $(A-\\lambda I)$ is not invertible.\n",
        "4. $\\text{det}(A-\\lambda I)=0$, which is called _characteristic equation_."
      ]
    },
    {
      "cell_type": "markdown",
      "metadata": {
        "id": "MPd9fLbz8Pit"
      },
      "source": [
        "Consider a matrix $A$\n",
        "\n",
        "$$\n",
        "A = \\begin{bmatrix}\n",
        "1 & 0 & 0 \\\\\n",
        "1 & 0 & 1 \\\\\n",
        "2 & -2 & 3\n",
        "\\end{bmatrix}\n",
        "$$\n",
        "\n",
        "Set up the characteristic equation,"
      ]
    },
    {
      "cell_type": "markdown",
      "metadata": {
        "id": "pCaNBVLo8Piu"
      },
      "source": [
        "$$\n",
        "\\text{det}\\left(\n",
        "\\begin{bmatrix}\n",
        "1 & 0 & 0 \\\\\n",
        "1 & 0 & 1 \\\\\n",
        "2 & -2 & 3\n",
        "\\end{bmatrix}\n",
        "-\n",
        "\\lambda\n",
        "\\begin{bmatrix}\n",
        "1 & 0 & 0 \\\\\n",
        "0 & 1 & 0 \\\\\n",
        "0 & 0 & 1\n",
        "\\end{bmatrix}\n",
        "\\right) = 0\n",
        "$$"
      ]
    },
    {
      "cell_type": "markdown",
      "metadata": {
        "id": "I10uC3Pt8Piu"
      },
      "source": [
        "Use SymPy ```charpoly``` and ```factor```, we can have straightforward solutions for eigenvalues."
      ]
    },
    {
      "cell_type": "code",
      "execution_count": 3,
      "metadata": {
        "id": "Ba7_zcRb8Piu"
      },
      "outputs": [],
      "source": [
        "lamda = sy.symbols('lamda') # 'lamda' withtout 'b' is reserved for SymPy, lambda is reserved for Python"
      ]
    },
    {
      "cell_type": "markdown",
      "metadata": {
        "id": "iTaT-FT38Piv"
      },
      "source": [
        "```charpoly``` returns characteristic equation."
      ]
    },
    {
      "cell_type": "code",
      "execution_count": 4,
      "metadata": {
        "colab": {
          "base_uri": "https://localhost:8080/",
          "height": 38
        },
        "id": "PAMJdIjj8Piv",
        "outputId": "2e4e2778-1249-431e-df2a-215bde3f6dd1"
      },
      "outputs": [
        {
          "output_type": "execute_result",
          "data": {
            "text/plain": [
              "PurePoly(lamda**3 - 4*lamda**2 + 5*lamda - 2, lamda, domain='ZZ')"
            ],
            "text/latex": "$\\displaystyle \\operatorname{PurePoly}{\\left( \\lambda^{3} - 4 \\lambda^{2} + 5 \\lambda - 2, \\lambda, domain=\\mathbb{Z} \\right)}$"
          },
          "metadata": {},
          "execution_count": 4
        }
      ],
      "source": [
        "A = sy.Matrix([[1, 0, 0], [1, 0, 1], [2, -2, 3]])\n",
        "p = A.charpoly(lamda); p"
      ]
    },
    {
      "cell_type": "markdown",
      "metadata": {
        "id": "ZZb-OHaI8Piw"
      },
      "source": [
        "Factor the polynomial such that we can see the solution."
      ]
    },
    {
      "cell_type": "code",
      "execution_count": 5,
      "metadata": {
        "colab": {
          "base_uri": "https://localhost:8080/",
          "height": 38
        },
        "id": "NDoSmu8S8Piw",
        "outputId": "1996a578-6046-4205-b1fb-d626a0e771ab"
      },
      "outputs": [
        {
          "output_type": "execute_result",
          "data": {
            "text/plain": [
              "PurePoly(lamda**3 - 4*lamda**2 + 5*lamda - 2, lamda, domain='ZZ')"
            ],
            "text/latex": "$\\displaystyle \\operatorname{PurePoly}{\\left( \\lambda^{3} - 4 \\lambda^{2} + 5 \\lambda - 2, \\lambda, domain=\\mathbb{Z} \\right)}$"
          },
          "metadata": {},
          "execution_count": 5
        }
      ],
      "source": [
        "sy.factor(p)"
      ]
    },
    {
      "cell_type": "markdown",
      "metadata": {
        "id": "YGXL50ua8Pix"
      },
      "source": [
        "From the factored characteristic polynomial, we get the eigenvalue, and $\\lambda =1$ has algebraic multiplicity of $2$, because there are two $(\\lambda-1)$. If not factored, we can use ```solve``` instead."
      ]
    },
    {
      "cell_type": "code",
      "execution_count": 6,
      "metadata": {
        "colab": {
          "base_uri": "https://localhost:8080/",
          "height": 37
        },
        "id": "C92HXV_H8Pix",
        "outputId": "bfbe7e4c-83ae-444a-d139-8cfe419820aa"
      },
      "outputs": [
        {
          "output_type": "execute_result",
          "data": {
            "text/plain": [
              "[1, 2]"
            ],
            "text/latex": "$\\displaystyle \\left[ 1, \\  2\\right]$"
          },
          "metadata": {},
          "execution_count": 6
        }
      ],
      "source": [
        "sy.solve(p,lamda)"
      ]
    },
    {
      "cell_type": "markdown",
      "metadata": {
        "id": "56mDC35G8Pix"
      },
      "source": [
        "Or use ```eigenvals``` directly."
      ]
    },
    {
      "cell_type": "code",
      "execution_count": 7,
      "metadata": {
        "colab": {
          "base_uri": "https://localhost:8080/",
          "height": 37
        },
        "id": "S0I5Hp2d8Pix",
        "outputId": "612b6caa-80b8-43ce-ed8a-6e367a861a27"
      },
      "outputs": [
        {
          "output_type": "execute_result",
          "data": {
            "text/plain": [
              "{1: 2, 2: 1}"
            ],
            "text/latex": "$\\displaystyle \\left\\{ 1 : 2, \\  2 : 1\\right\\}$"
          },
          "metadata": {},
          "execution_count": 7
        }
      ],
      "source": [
        "A.eigenvals()"
      ]
    },
    {
      "cell_type": "markdown",
      "metadata": {
        "id": "X5N0ibGC8Pix"
      },
      "source": [
        "To find the eigenvector corresponding to $\\lambda$, we substitute the eigenvalues back into $(A-\\lambda I)x=0$ and solve it. Construct augmented matrix with $\\lambda =1$ and perform rref."
      ]
    },
    {
      "cell_type": "code",
      "execution_count": 8,
      "metadata": {
        "colab": {
          "base_uri": "https://localhost:8080/",
          "height": 78
        },
        "id": "EPPuRF8-8Pix",
        "outputId": "1deaac7a-c180-4997-d233-6a0fd1e3ac37"
      },
      "outputs": [
        {
          "output_type": "execute_result",
          "data": {
            "text/plain": [
              "⎛⎡1  -1  1  0⎤      ⎞\n",
              "⎜⎢           ⎥      ⎟\n",
              "⎜⎢0  0   0  0⎥, (0,)⎟\n",
              "⎜⎢           ⎥      ⎟\n",
              "⎝⎣0  0   0  0⎦      ⎠"
            ],
            "text/latex": "$\\displaystyle \\left( \\left[\\begin{matrix}1 & -1 & 1 & 0\\\\0 & 0 & 0 & 0\\\\0 & 0 & 0 & 0\\end{matrix}\\right], \\  \\left( 0,\\right)\\right)$"
          },
          "metadata": {},
          "execution_count": 8
        }
      ],
      "source": [
        "(A - 1*sy.eye(3)).row_join(sy.zeros(3,1)).rref()"
      ]
    },
    {
      "cell_type": "markdown",
      "metadata": {
        "id": "bzzVa-eC8Pix"
      },
      "source": [
        "The null space is the solution set of the linear system.\n",
        "\n",
        "$$\n",
        "\\left[\n",
        "\\begin{matrix}\n",
        "x_1 \\\\ x_2 \\\\ x_3\n",
        "\\end{matrix}\n",
        "\\right]=\n",
        "\\left[\n",
        "\\begin{matrix}\n",
        "x_2-x_3 \\\\ x_2 \\\\ x_3\n",
        "\\end{matrix}\n",
        "\\right]=\n",
        "x_2\\left[\n",
        "\\begin{matrix}\n",
        "1 \\\\ 1 \\\\ 0\n",
        "\\end{matrix}\n",
        "\\right]\n",
        "+x_3\\left[\n",
        "\\begin{matrix}\n",
        "-1 \\\\ 0 \\\\ 1\n",
        "\\end{matrix}\n",
        "\\right]\n",
        "$$"
      ]
    },
    {
      "cell_type": "markdown",
      "metadata": {
        "id": "Md9bgXAr8Piy"
      },
      "source": [
        "This is called _eigenspace_ for $\\lambda = 1$, which is a subspace in $\\mathbb{R}^3$. All eigenvectors are inside the eigenspace.\n",
        "\n",
        "We can proceed with $\\lambda = 2$ as well."
      ]
    },
    {
      "cell_type": "code",
      "execution_count": 9,
      "metadata": {
        "colab": {
          "base_uri": "https://localhost:8080/",
          "height": 78
        },
        "id": "yPw9qwSR8Piy",
        "outputId": "5afc9bc6-4ddf-4ce5-dd86-bc52d5f64bf0"
      },
      "outputs": [
        {
          "output_type": "execute_result",
          "data": {
            "text/plain": [
              "⎛⎡1  0   0    0⎤        ⎞\n",
              "⎜⎢             ⎥        ⎟\n",
              "⎜⎢0  1  -1/2  0⎥, (0, 1)⎟\n",
              "⎜⎢             ⎥        ⎟\n",
              "⎝⎣0  0   0    0⎦        ⎠"
            ],
            "text/latex": "$\\displaystyle \\left( \\left[\\begin{matrix}1 & 0 & 0 & 0\\\\0 & 1 & - \\frac{1}{2} & 0\\\\0 & 0 & 0 & 0\\end{matrix}\\right], \\  \\left( 0, \\  1\\right)\\right)$"
          },
          "metadata": {},
          "execution_count": 9
        }
      ],
      "source": [
        "(A - 2*sy.eye(3)).row_join(sy.zeros(3,1)).rref()"
      ]
    },
    {
      "cell_type": "markdown",
      "metadata": {
        "id": "In3CqPR88Piy"
      },
      "source": [
        "The null space is the solution set of the linear system.\n",
        "\n",
        "$$\n",
        "\\left[\n",
        "\\begin{matrix}\n",
        "x_1 \\\\ x_2 \\\\ x_3\n",
        "\\end{matrix}\n",
        "\\right]=\n",
        "\\left[\n",
        "\\begin{matrix}\n",
        "0\\\\ \\frac{1}{2}x_3\\\\ x_3\n",
        "\\end{matrix}\n",
        "\\right]=\n",
        "x_3\\left[\n",
        "\\begin{matrix}\n",
        "0 \\\\ \\frac{1}{2} \\\\ 1\n",
        "\\end{matrix}\n",
        "\\right]\n",
        "$$"
      ]
    },
    {
      "cell_type": "markdown",
      "metadata": {
        "id": "26BJy_u58Piy"
      },
      "source": [
        "To avoid troubles of solving back and forth, SymPy has ```eigenvects``` to calcuate eigenvalues and eigenspaces (basis of eigenspace)."
      ]
    },
    {
      "cell_type": "code",
      "execution_count": 10,
      "metadata": {
        "colab": {
          "base_uri": "https://localhost:8080/",
          "height": 78
        },
        "id": "1e-f2WdJ8Piy",
        "outputId": "890c0fb4-56a3-4e21-bfc2-3dba1eabc405"
      },
      "outputs": [
        {
          "output_type": "execute_result",
          "data": {
            "text/plain": [
              "⎡⎛      ⎡⎡1⎤  ⎡-1⎤⎤⎞  ⎛      ⎡⎡ 0 ⎤⎤⎞⎤\n",
              "⎢⎜      ⎢⎢ ⎥  ⎢  ⎥⎥⎟  ⎜      ⎢⎢   ⎥⎥⎟⎥\n",
              "⎢⎜1, 2, ⎢⎢1⎥, ⎢0 ⎥⎥⎟, ⎜2, 1, ⎢⎢1/2⎥⎥⎟⎥\n",
              "⎢⎜      ⎢⎢ ⎥  ⎢  ⎥⎥⎟  ⎜      ⎢⎢   ⎥⎥⎟⎥\n",
              "⎣⎝      ⎣⎣0⎦  ⎣1 ⎦⎦⎠  ⎝      ⎣⎣ 1 ⎦⎦⎠⎦"
            ],
            "text/latex": "$\\displaystyle \\left[ \\left( 1, \\  2, \\  \\left[ \\left[\\begin{matrix}1\\\\1\\\\0\\end{matrix}\\right], \\  \\left[\\begin{matrix}-1\\\\0\\\\1\\end{matrix}\\right]\\right]\\right), \\  \\left( 2, \\  1, \\  \\left[ \\left[\\begin{matrix}0\\\\\\frac{1}{2}\\\\1\\end{matrix}\\right]\\right]\\right)\\right]$"
          },
          "metadata": {},
          "execution_count": 10
        }
      ],
      "source": [
        "eig = A.eigenvects(); eig"
      ]
    },
    {
      "cell_type": "markdown",
      "metadata": {
        "id": "zyK1Ey6n8Piz"
      },
      "source": [
        "To clarify what we just get, write"
      ]
    },
    {
      "cell_type": "code",
      "execution_count": 11,
      "metadata": {
        "colab": {
          "base_uri": "https://localhost:8080/"
        },
        "id": "nPyf-NJj8Piz",
        "outputId": "7b23152e-baf0-4045-aa3d-ba99902e3d65"
      },
      "outputs": [
        {
          "output_type": "stream",
          "name": "stdout",
          "text": [
            "Eigenvalue = 1, Multiplicity = 2, Eigenspace = [Matrix([\n",
            "[1],\n",
            "[1],\n",
            "[0]]), Matrix([\n",
            "[-1],\n",
            "[ 0],\n",
            "[ 1]])]\n"
          ]
        }
      ],
      "source": [
        "print('Eigenvalue = {0}, Multiplicity = {1}, Eigenspace = {2}'.format(eig[0][0], eig[0][1], eig[0][2]))"
      ]
    },
    {
      "cell_type": "code",
      "execution_count": 12,
      "metadata": {
        "colab": {
          "base_uri": "https://localhost:8080/"
        },
        "id": "r4GaqRKM8Piz",
        "outputId": "798f6e96-736b-4adc-b24a-688e2891048d"
      },
      "outputs": [
        {
          "output_type": "stream",
          "name": "stdout",
          "text": [
            "Eigenvalue = 2, Multiplicity = 1, Eigenspace = [Matrix([\n",
            "[  0],\n",
            "[1/2],\n",
            "[  1]])]\n"
          ]
        }
      ],
      "source": [
        "print('Eigenvalue = {0}, Multiplicity = {1}, Eigenspace = {2}'.format(eig[1][0], eig[1][1], eig[1][2]))"
      ]
    },
    {
      "cell_type": "markdown",
      "metadata": {
        "id": "mUoOLkm98Piz"
      },
      "source": [
        "## <font face=\"gotham\" color=\"purple\"> NumPy Functions for Eigenvalues and Eigenspace"
      ]
    },
    {
      "cell_type": "markdown",
      "metadata": {
        "id": "zDLQTAro8Pi0"
      },
      "source": [
        "Convert SymPy matrix into NumPy float array."
      ]
    },
    {
      "cell_type": "code",
      "execution_count": 13,
      "metadata": {
        "colab": {
          "base_uri": "https://localhost:8080/"
        },
        "id": "16ejsVhe8Pi0",
        "outputId": "ba23d3c4-94d5-4735-9c48-f56d332d7092"
      },
      "outputs": [
        {
          "output_type": "execute_result",
          "data": {
            "text/plain": [
              "array([[ 1.,  0.,  0.],\n",
              "       [ 1.,  0.,  1.],\n",
              "       [ 2., -2.,  3.]])"
            ]
          },
          "metadata": {},
          "execution_count": 13
        }
      ],
      "source": [
        "A = np.array(A).astype(float); A"
      ]
    },
    {
      "cell_type": "markdown",
      "metadata": {
        "id": "AYviac_28Pi0"
      },
      "source": [
        "```.eigvals()``` and ```.eig(A)``` are handy functions for eigenvalues and eigenvectors."
      ]
    },
    {
      "cell_type": "code",
      "execution_count": 14,
      "metadata": {
        "colab": {
          "base_uri": "https://localhost:8080/"
        },
        "id": "UbrFlzJu8Pi0",
        "outputId": "e525d1db-64fe-4d4e-f28f-a99d4c3f0484"
      },
      "outputs": [
        {
          "output_type": "execute_result",
          "data": {
            "text/plain": [
              "array([2., 1., 1.])"
            ]
          },
          "metadata": {},
          "execution_count": 14
        }
      ],
      "source": [
        "np.linalg.eigvals(A)"
      ]
    },
    {
      "cell_type": "code",
      "execution_count": 15,
      "metadata": {
        "colab": {
          "base_uri": "https://localhost:8080/"
        },
        "id": "yPu5equi8Pi1",
        "outputId": "256a86cb-46e8-4f49-f9cf-9ea8b7ccbcce"
      },
      "outputs": [
        {
          "output_type": "execute_result",
          "data": {
            "text/plain": [
              "EigResult(eigenvalues=array([2., 1., 1.]), eigenvectors=array([[ 0.   ,  0.   ,  0.408],\n",
              "       [ 0.447,  0.707, -0.408],\n",
              "       [ 0.894,  0.707, -0.816]]))"
            ]
          },
          "metadata": {},
          "execution_count": 15
        }
      ],
      "source": [
        "np.linalg.eig(A) #return both eigenvalues and eigenvectors"
      ]
    },
    {
      "cell_type": "markdown",
      "metadata": {
        "id": "BNuMD7kT8Pi1"
      },
      "source": [
        "## <font face=\"gotham\" color=\"purple\"> An Example"
      ]
    },
    {
      "cell_type": "markdown",
      "metadata": {
        "id": "i7OMXsh68Pi1"
      },
      "source": [
        "Consider a matrix $A$"
      ]
    },
    {
      "cell_type": "code",
      "execution_count": 16,
      "metadata": {
        "colab": {
          "base_uri": "https://localhost:8080/",
          "height": 119
        },
        "id": "X1zR4adl8Pi1",
        "outputId": "5ad4a99a-c182-41c3-ca23-1857708def4c"
      },
      "outputs": [
        {
          "output_type": "execute_result",
          "data": {
            "text/plain": [
              "⎡-4  -4  20   -8  -1⎤\n",
              "⎢                   ⎥\n",
              "⎢14  12  46   18  2 ⎥\n",
              "⎢                   ⎥\n",
              "⎢6   4   -18  8   1 ⎥\n",
              "⎢                   ⎥\n",
              "⎢11  7   -37  17  2 ⎥\n",
              "⎢                   ⎥\n",
              "⎣18  12  -60  24  5 ⎦"
            ],
            "text/latex": "$\\displaystyle \\left[\\begin{matrix}-4 & -4 & 20 & -8 & -1\\\\14 & 12 & 46 & 18 & 2\\\\6 & 4 & -18 & 8 & 1\\\\11 & 7 & -37 & 17 & 2\\\\18 & 12 & -60 & 24 & 5\\end{matrix}\\right]$"
          },
          "metadata": {},
          "execution_count": 16
        }
      ],
      "source": [
        "A = sy.Matrix([[-4, -4, 20, -8, -1],\n",
        "               [14, 12, 46, 18, 2],\n",
        "               [6, 4, -18, 8, 1],\n",
        "               [11, 7, -37, 17, 2],\n",
        "               [18, 12, -60, 24, 5]])\n",
        "A"
      ]
    },
    {
      "cell_type": "markdown",
      "metadata": {
        "id": "oUHeq5NQ8Pi1"
      },
      "source": [
        "Find eigenvalues."
      ]
    },
    {
      "cell_type": "code",
      "execution_count": 17,
      "metadata": {
        "colab": {
          "base_uri": "https://localhost:8080/",
          "height": 68
        },
        "id": "MHFdMD-H8Pi2",
        "outputId": "780fb597-dbea-41d1-8a0f-fcd90e4d1c2f"
      },
      "outputs": [
        {
          "output_type": "execute_result",
          "data": {
            "text/plain": [
              "⎧            5   √1473     5   √1473   ⎫\n",
              "⎨2: 2, 3: 1, ─ - ─────: 1, ─ + ─────: 1⎬\n",
              "⎩            2     2       2     2     ⎭"
            ],
            "text/latex": "$\\displaystyle \\left\\{ 2 : 2, \\  3 : 1, \\  \\frac{5}{2} - \\frac{\\sqrt{1473}}{2} : 1, \\  \\frac{5}{2} + \\frac{\\sqrt{1473}}{2} : 1\\right\\}$"
          },
          "metadata": {},
          "execution_count": 17
        }
      ],
      "source": [
        "eig = A.eigenvals()\n",
        "eig"
      ]
    },
    {
      "cell_type": "markdown",
      "metadata": {
        "id": "RWuLA8_38Pi2"
      },
      "source": [
        "Or use NumPy functions, show the eigenvalues."
      ]
    },
    {
      "cell_type": "code",
      "execution_count": 18,
      "metadata": {
        "colab": {
          "base_uri": "https://localhost:8080/"
        },
        "id": "pNiB1VVE8Pi2",
        "outputId": "3f65ad48-8060-4be7-c685-3810fd9d42d8"
      },
      "outputs": [
        {
          "output_type": "execute_result",
          "data": {
            "text/plain": [
              "array([ 21.69, -16.69,   3.  ,   2.  ,   2.  ])"
            ]
          },
          "metadata": {},
          "execution_count": 18
        }
      ],
      "source": [
        "A = np.array(A)\n",
        "A = A.astype(float)\n",
        "eigval, eigvec = np.linalg.eig(A)\n",
        "eigval"
      ]
    },
    {
      "cell_type": "markdown",
      "metadata": {
        "id": "sMsLpk5U8Pi2"
      },
      "source": [
        "And corresponding eigenvectors."
      ]
    },
    {
      "cell_type": "code",
      "execution_count": 19,
      "metadata": {
        "colab": {
          "base_uri": "https://localhost:8080/"
        },
        "id": "XCCVRMUS8Pi2",
        "outputId": "a9009460-59fd-4eae-d5bd-c97d1509dc08"
      },
      "outputs": [
        {
          "output_type": "execute_result",
          "data": {
            "text/plain": [
              "array([[-0.124, -0.224,  0.   , -0.039,  0.611],\n",
              "       [ 0.886, -0.543, -0.894, -0.216, -0.149],\n",
              "       [ 0.124,  0.224,  0.   ,  0.   , -0.   ],\n",
              "       [ 0.216,  0.392,  0.447,  0.255, -0.462],\n",
              "       [ 0.371,  0.672, -0.   , -0.942,  0.625]])"
            ]
          },
          "metadata": {},
          "execution_count": 19
        }
      ],
      "source": [
        "eigvec"
      ]
    },
    {
      "cell_type": "markdown",
      "metadata": {
        "id": "n5HyjIKd8Pi3"
      },
      "source": [
        "## <font face=\"gotham\" color=\"purple\"> A Visualization Example"
      ]
    },
    {
      "cell_type": "markdown",
      "metadata": {
        "id": "BWhmjw4o8Pi3"
      },
      "source": [
        "Let\n",
        "\n",
        "$$\n",
        "A=\n",
        "\\left[\n",
        "\\begin{matrix}\n",
        "1 & 6\\\\\n",
        "5 & 2\n",
        "\\end{matrix}\n",
        "\\right]\n",
        "$$\n",
        "\n",
        "find the eigenvalues and vectors, then visualize in $\\mathbb{R}^2$"
      ]
    },
    {
      "cell_type": "markdown",
      "metadata": {
        "id": "KbwyK2-C8Pi3"
      },
      "source": [
        "Use characteristic equation $|A - \\lambda I|=0$\n",
        "\n",
        "$$\n",
        "\\left|\n",
        "\\left[\n",
        "\\begin{matrix}\n",
        "1 & 6\\\\\n",
        "5 & 2\n",
        "\\end{matrix}\n",
        "\\right]\n",
        "-\n",
        "\\left[\n",
        "\\begin{matrix}\n",
        "\\lambda & 0\\\\\n",
        "0 & \\lambda\n",
        "\\end{matrix}\n",
        "\\right]\\right|=0\n",
        "$$"
      ]
    },
    {
      "cell_type": "code",
      "execution_count": 20,
      "metadata": {
        "id": "aoGj-Sf68Pi3"
      },
      "outputs": [],
      "source": [
        "lamda = sy.symbols('lamda')\n",
        "A = sy.Matrix([[1,6],[5,2]])\n",
        "I = sy.eye(2)"
      ]
    },
    {
      "cell_type": "code",
      "execution_count": 21,
      "metadata": {
        "colab": {
          "base_uri": "https://localhost:8080/",
          "height": 58
        },
        "id": "CAi8fUh88Pi3",
        "outputId": "736e9251-5ee4-47c4-9994-fd140765653a"
      },
      "outputs": [
        {
          "output_type": "execute_result",
          "data": {
            "text/plain": [
              "⎡1 - λ    6  ⎤\n",
              "⎢            ⎥\n",
              "⎣  5    2 - λ⎦"
            ],
            "text/latex": "$\\displaystyle \\left[\\begin{matrix}1 - \\lambda & 6\\\\5 & 2 - \\lambda\\end{matrix}\\right]$"
          },
          "metadata": {},
          "execution_count": 21
        }
      ],
      "source": [
        "A - lamda*I"
      ]
    },
    {
      "cell_type": "code",
      "execution_count": 22,
      "metadata": {
        "colab": {
          "base_uri": "https://localhost:8080/",
          "height": 38
        },
        "id": "jkIczecy8Pi3",
        "outputId": "c9650796-9c81-43a6-ed4c-9014d6a8beef"
      },
      "outputs": [
        {
          "output_type": "execute_result",
          "data": {
            "text/plain": [
              "PurePoly(lamda**2 - 3*lamda - 28, lamda, domain='ZZ')"
            ],
            "text/latex": "$\\displaystyle \\operatorname{PurePoly}{\\left( \\lambda^{2} - 3 \\lambda - 28, \\lambda, domain=\\mathbb{Z} \\right)}$"
          },
          "metadata": {},
          "execution_count": 22
        }
      ],
      "source": [
        "p = A.charpoly(lamda);p"
      ]
    },
    {
      "cell_type": "code",
      "execution_count": 23,
      "metadata": {
        "colab": {
          "base_uri": "https://localhost:8080/",
          "height": 38
        },
        "id": "L9dJmRA-8Pi4",
        "outputId": "46ad04be-3922-4aa8-8056-09293b0a64e2"
      },
      "outputs": [
        {
          "output_type": "execute_result",
          "data": {
            "text/plain": [
              "PurePoly(lamda**2 - 3*lamda - 28, lamda, domain='ZZ')"
            ],
            "text/latex": "$\\displaystyle \\operatorname{PurePoly}{\\left( \\lambda^{2} - 3 \\lambda - 28, \\lambda, domain=\\mathbb{Z} \\right)}$"
          },
          "metadata": {},
          "execution_count": 23
        }
      ],
      "source": [
        "sy.factor(p)"
      ]
    },
    {
      "cell_type": "markdown",
      "metadata": {
        "id": "muLXMtdw8Pi4"
      },
      "source": [
        "There are two eigenvalues: $7$ and $4$. Next we calculate eigenvectors."
      ]
    },
    {
      "cell_type": "code",
      "execution_count": 24,
      "metadata": {
        "colab": {
          "base_uri": "https://localhost:8080/",
          "height": 58
        },
        "id": "fThaHwql8Pi4",
        "outputId": "c73b138d-bb3e-4a0f-eeff-f09fddf51938"
      },
      "outputs": [
        {
          "output_type": "execute_result",
          "data": {
            "text/plain": [
              "⎛⎡1  -1  0⎤      ⎞\n",
              "⎜⎢        ⎥, (0,)⎟\n",
              "⎝⎣0  0   0⎦      ⎠"
            ],
            "text/latex": "$\\displaystyle \\left( \\left[\\begin{matrix}1 & -1 & 0\\\\0 & 0 & 0\\end{matrix}\\right], \\  \\left( 0,\\right)\\right)$"
          },
          "metadata": {},
          "execution_count": 24
        }
      ],
      "source": [
        "(A - 7*sy.eye(2)).row_join(sy.zeros(2,1)).rref()"
      ]
    },
    {
      "cell_type": "markdown",
      "metadata": {
        "id": "vXYYVJbb8Pi4"
      },
      "source": [
        "The eigenspace for $\\lambda = 7$ is\n",
        "\n",
        "$$\n",
        "\\left[\n",
        "\\begin{matrix}\n",
        "x_1\\\\\n",
        "x_2\n",
        "\\end{matrix}\n",
        "\\right]=\n",
        "x_2\\left[\n",
        "\\begin{matrix}\n",
        "1\\\\\n",
        "1\n",
        "\\end{matrix}\n",
        "\\right]\n",
        "$$"
      ]
    },
    {
      "cell_type": "markdown",
      "metadata": {
        "id": "ucn8REfF8Pi4"
      },
      "source": [
        "Any vector is eigenspace as long as $x \\neq 0$ is an eigenvector. Let's find out eigenspace for $\\lambda = 4$."
      ]
    },
    {
      "cell_type": "code",
      "execution_count": 25,
      "metadata": {
        "colab": {
          "base_uri": "https://localhost:8080/",
          "height": 58
        },
        "id": "r6i2ro998Pi4",
        "outputId": "f6e3b9ec-87e4-4bb9-80c1-306740687544"
      },
      "outputs": [
        {
          "output_type": "execute_result",
          "data": {
            "text/plain": [
              "⎛⎡1  6/5  0⎤      ⎞\n",
              "⎜⎢         ⎥, (0,)⎟\n",
              "⎝⎣0   0   0⎦      ⎠"
            ],
            "text/latex": "$\\displaystyle \\left( \\left[\\begin{matrix}1 & \\frac{6}{5} & 0\\\\0 & 0 & 0\\end{matrix}\\right], \\  \\left( 0,\\right)\\right)$"
          },
          "metadata": {},
          "execution_count": 25
        }
      ],
      "source": [
        "(A + 4*sy.eye(2)).row_join(sy.zeros(2,1)).rref()"
      ]
    },
    {
      "cell_type": "markdown",
      "metadata": {
        "id": "NRIRNf6S8Pi5"
      },
      "source": [
        "The eigenspace for $\\lambda = -4$ is\n",
        "\n",
        "$$\n",
        "\\left[\n",
        "\\begin{matrix}\n",
        "x_1\\\\\n",
        "x_2\n",
        "\\end{matrix}\n",
        "\\right]=\n",
        "x_2\\left[\n",
        "\\begin{matrix}\n",
        "-\\frac{6}{5}\\\\\n",
        "1\n",
        "\\end{matrix}\n",
        "\\right]\n",
        "$$"
      ]
    },
    {
      "cell_type": "markdown",
      "metadata": {
        "id": "0fQxJ9du8Pi5"
      },
      "source": [
        "Let's plot both eigenvectors as $(1, 1)$ and $(-6/5, 1)$ and multiples with eigenvalues."
      ]
    },
    {
      "cell_type": "code",
      "execution_count": 26,
      "metadata": {
        "colab": {
          "base_uri": "https://localhost:8080/",
          "height": 965
        },
        "id": "aClh9m7h8Pi5",
        "outputId": "b99755ea-b637-4b55-8055-7cc475432326"
      },
      "outputs": [
        {
          "output_type": "display_data",
          "data": {
            "text/plain": [
              "<Figure size 1200x1200 with 1 Axes>"
            ],
            "image/png": "[encoded data removed]"
          },
          "metadata": {}
        }
      ],
      "source": [
        "import numpy as np\n",
        "import matplotlib.pyplot as plt\n",
        "import matplotlib as mpl\n",
        "\n",
        "fig, ax = plt.subplots(figsize=(12, 12))\n",
        "arrows = np.array([ [[0, 0, 1, 1]],\n",
        "                    [[0, 0, -6/5, 1]],\n",
        "                    [[0, 0, 7, 7]],\n",
        "                    [[0, 0, 24/5, -4]] ])\n",
        "colors = ['darkorange', 'skyblue', 'r', 'b']\n",
        "\n",
        "for i in range(arrows.shape[0]):\n",
        "    X, Y, U, V = zip(*arrows[i, :, :])\n",
        "    ax.arrow(X[0], Y[0], U[0], V[0], color=colors[i], width=0.08,\n",
        "             length_includes_head=True, head_width=0.3, head_length=0.6,\n",
        "             overhang=0.4, zorder=-i)\n",
        "\n",
        "# Eigenspace for λ = 7\n",
        "x = np.arange(-10, 10.6, 0.5)\n",
        "y = x\n",
        "ax.plot(x, y, lw=2, color='red', alpha=0.3, label=r'Eigenspace for $\\lambda = 7$')\n",
        "\n",
        "# Eigenspace for λ = -4\n",
        "x = np.arange(-10, 10.6, 0.5)\n",
        "y = -5/6 * x\n",
        "ax.plot(x, y, lw=2, color='blue', alpha=0.3, label=r'Eigenspace for $\\lambda = -4$')\n",
        "\n",
        "# Annotation Arrows\n",
        "style = \"Simple, tail_width=0.5, head_width=5, head_length=10\"\n",
        "kw = dict(arrowstyle=style, color=\"k\")\n",
        "\n",
        "a = mpl.patches.FancyArrowPatch((1, 1), (7, 7), connectionstyle=\"arc3,rad=.4\", **kw, alpha=0.3)\n",
        "plt.gca().add_patch(a)\n",
        "\n",
        "a = mpl.patches.FancyArrowPatch((-6/5, 1), (24/5, -4), connectionstyle=\"arc3,rad=.4\", **kw, alpha=0.3)\n",
        "plt.gca().add_patch(a)\n",
        "\n",
        "# Legend\n",
        "leg = ax.legend(fontsize=15, loc='lower right')\n",
        "leg.get_frame().set_alpha(0.5)\n",
        "\n",
        "# Axis, Spines, Ticks\n",
        "ax.axis([-10, 10.1, -10.1, 10.1])\n",
        "ax.spines['left'].set_position('center')\n",
        "ax.spines['right'].set_color('none')\n",
        "ax.spines['bottom'].set_position('center')\n",
        "ax.spines['top'].set_color('none')\n",
        "ax.xaxis.set_ticks_position('bottom')\n",
        "ax.yaxis.set_ticks_position('left')\n",
        "\n",
        "ax.minorticks_on()\n",
        "ax.tick_params(axis='both', direction='inout', length=12, width=2, which='major')\n",
        "ax.tick_params(axis='both', direction='inout', length=10, width=1, which='minor')\n",
        "plt.show()\n"
      ]
    }
  ],
  "metadata": {
    "kernelspec": {
      "display_name": "Python 3 (ipykernel)",
      "language": "python",
      "name": "python3"
    },
    "language_info": {
      "codemirror_mode": {
        "name": "ipython",
        "version": 3
      },
      "file_extension": ".py",
      "mimetype": "text/x-python",
      "name": "python",
      "nbconvert_exporter": "python",
      "pygments_lexer": "ipython3",
      "version": "3.12.0"
    },
    "toc": {
      "base_numbering": 1,
      "nav_menu": {},
      "number_sections": true,
      "sideBar": true,
      "skip_h1_title": false,
      "title_cell": "Table of Contents",
      "title_sidebar": "Contents",
      "toc_cell": false,
      "toc_position": {},
      "toc_section_display": true,
      "toc_window_display": false
    },
    "colab": {
      "provenance": []
    }
  },
  "nbformat": 4,
  "nbformat_minor": 0
}